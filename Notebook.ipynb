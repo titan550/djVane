{
 "cells": [
  {
   "cell_type": "markdown",
   "metadata": {},
   "source": [
    "# Vane Plotter\n",
    "\n",
    "### This program cleans the data coming from the vane and plots the concentration of values on a circle."
   ]
  },
  {
   "cell_type": "markdown",
   "metadata": {},
   "source": [
    "## Step 1\n",
    "Importing Libraries"
   ]
  },
  {
   "cell_type": "code",
   "execution_count": 5,
   "metadata": {},
   "outputs": [],
   "source": [
    "import pandas as pd\n",
    "import numpy as np"
   ]
  },
  {
   "cell_type": "markdown",
   "metadata": {},
   "source": [
    "## Step 2\n",
    "Importing the Excel file into Pandas dataframe"
   ]
  },
  {
   "cell_type": "code",
   "execution_count": 6,
   "metadata": {},
   "outputs": [],
   "source": [
    "xl = pd.ExcelFile('data0.xls')\n",
    "df1 = xl.parse(xl.sheet_names[0])"
   ]
  },
  {
   "cell_type": "markdown",
   "metadata": {},
   "source": [
    "## Step 3\n",
    "Find the number of times an item occurred"
   ]
  },
  {
   "cell_type": "code",
   "execution_count": 7,
   "metadata": {},
   "outputs": [
    {
     "name": "stdout",
     "output_type": "stream",
     "text": [
      "[(u'595', 1), (u'194', 1), (u'258', 1), (u'492', 1), (u'959', 1), (u'794', 1), (u'870', 1), (u'667', 1), (u'346', 1), (u'650', 1), (u'675', 1), (u'676', 1), (u'463', 1), (u'662', 1), (u'265', 1), (u'160', 1), (u'634', 1), (u'943', 1), (u'905', 1), (u'642', 1), (u'649', 1), (u'924', 1), (u'805', 1), (u'861', 2), (u'987', 3), (u'257', 5), (u'494', 11), (u'858', 27), (u'963', 32), (u'437', 42), (u'810', 56), (u'930', 107), (u'789', 123), (u'177', 144), (u'624', 216), (u'931', 260), (u'859', 273), (u'860', 311), (u'960', 323), (u'625', 352), (u'932', 357), (u'143', 362), (u'790', 412), (u'142', 420), (u'178', 513), (u'438', 634), (u'907', 778), (u'988', 992), (u'256', 1053), (u'961', 1286), (u'989', 1673), (u'351', 1833), (u'909', 1844), (u'677', 1920), (u'990', 2053), (u'811', 2224), (u'908', 2300), (u'195', 2368), (u'678', 2562), (u'196', 2683), (u'962', 2770), (u'352', 2920), (u'812', 2959), (u'493', 4882)]\n"
     ]
    }
   ],
   "source": [
    "valueDictionary = dict()\n",
    "columnCount = df1.shape[1]\n",
    "rowCount = df1.shape[0]\n",
    "\n",
    "colIndex = 0\n",
    "while (colIndex < columnCount):\n",
    "    rowIndex = 0\n",
    "    while (rowIndex < rowCount and not pd.isnull(df1.iloc[rowIndex][colIndex])):\n",
    "        value = df1.iloc[rowIndex][colIndex].split(',')[0]\n",
    "        if value in valueDictionary:\n",
    "            valueDictionary[value] += 1\n",
    "        else:\n",
    "            valueDictionary[value] = 1\n",
    "        rowIndex += 1\n",
    "    colIndex += 1\n",
    "            \n",
    "print(sorted(valueDictionary.items(), key=lambda x: x[1]))"
   ]
  },
  {
   "cell_type": "code",
   "execution_count": null,
   "metadata": {},
   "outputs": [],
   "source": []
  }
 ],
 "metadata": {
  "kernelspec": {
   "display_name": "Python [conda env:DAND]",
   "language": "python",
   "name": "conda-env-DAND-py"
  },
  "language_info": {
   "codemirror_mode": {
    "name": "ipython",
    "version": 2
   },
   "file_extension": ".py",
   "mimetype": "text/x-python",
   "name": "python",
   "nbconvert_exporter": "python",
   "pygments_lexer": "ipython2",
   "version": "2.7.12"
  }
 },
 "nbformat": 4,
 "nbformat_minor": 2
}
